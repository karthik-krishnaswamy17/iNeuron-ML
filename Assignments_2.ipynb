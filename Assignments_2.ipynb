{
 "cells": [
  {
   "cell_type": "code",
   "execution_count": null,
   "metadata": {},
   "outputs": [],
   "source": [
    "#Task1\n",
    "#1.1,1.2,"
   ]
  },
  {
   "cell_type": "code",
   "execution_count": 5,
   "metadata": {},
   "outputs": [
    {
     "name": "stdout",
     "output_type": "stream",
     "text": [
      "Original List: [1, 2, 3, 4, 5, 6, 7, 8, 9, 10, 11, 12, 13, 14, 15, 16, 17, 18, 19, 20, 21, 22, 23, 24]\n",
      "Output from myreduce():- 300\n",
      "Output from myfilter():- [2, 4, 6, 8, 10, 12, 14, 16, 18, 20, 22, 24]\n"
     ]
    }
   ],
   "source": [
    "def myreduce(func_sum,iterable_o):\n",
    "    return func_sum(iterable_o)\n",
    "\n",
    "def myfilter(func_even,iterable_o):\n",
    "    return func_even(iterable_o)\n",
    "\n",
    "\n",
    "def func_sum(o):\n",
    "    s=0\n",
    "    for k in o:\n",
    "        s+=k\n",
    "    return s\n",
    "\n",
    "def func_even(o):\n",
    "    l=[ele for ele in o if ele%2==0]\n",
    "    return l\n",
    "\n",
    "test_list=list(range(1,25))\n",
    "print(\"Original List:\",test_list)\n",
    "print(\"Output from myreduce():-\",myreduce(func_sum,test_list))\n",
    "print(\"Output from myfilter():-\",myfilter(func_even,test_list))"
   ]
  },
  {
   "cell_type": "code",
   "execution_count": null,
   "metadata": {},
   "outputs": [],
   "source": [
    "2.\n",
    "#Implement List comprehensions to produce the following lists.\n",
    "#Write List comprehensions to produce the following Lists"
   ]
  },
  {
   "cell_type": "code",
   "execution_count": 1,
   "metadata": {},
   "outputs": [
    {
     "name": "stdout",
     "output_type": "stream",
     "text": [
      "['A', 'C', 'A', 'D', 'G', 'I', 'L', 'D'] \n",
      " ['x', 'xx', 'xxx', 'xxxx', 'y', 'yy', 'yyy', 'yyyy', 'z', 'zz', 'zzz', 'zzzz'] \n",
      " ['x', 'y', 'z', 'xx', 'yy', 'zz', 'xxx', 'yyy', 'zzz', 'xxxx', 'yyyy', 'zzzz'] \n",
      " [[2], [3], [4], [3], [4], [5], [4], [5], [6]] \n",
      " [[2, 3, 4, 5], [3, 4, 5, 6], [4, 5, 6, 7], [5, 6, 7, 8]] \n",
      " [(1, 1), (2, 1), (3, 1), (1, 2), (2, 2), (3, 2), (1, 3), (2, 3), (3, 3)]\n"
     ]
    }
   ],
   "source": [
    "# ['A', 'C', 'A', 'D', 'G', 'I', ’L’, ‘ D’]\n",
    "# ['x', 'xx', 'xxx', 'xxxx', 'y', 'yy', 'yyy', 'yyyy', 'z', 'zz', 'zzz', 'zzzz']\n",
    "# # ['x', 'y', 'z', 'xx', 'yy', 'zz', 'xx', 'yy', 'zz', 'xxxx', 'yyyy', 'zzzz']\n",
    "# [[2], [3], [4], [3], [4], [5], [4], [5], [6]]\n",
    "# [[2, 3, 4, 5], [3, 4, 5, 6], [4, 5, 6, 7], [5, 6, 7, 8]]\n",
    "# [(1, 1), (2, 1), (3, 1), (1, 2), (2, 2), (3, 2), (1, 3), (2, 3), (3, 3)]\n",
    "\n",
    "r=list(range(1,5))\n",
    "l1=[ s for s in \"ACADGILD\"]\n",
    "l2=[ i*ele  for i in ['x','y','z'] for ele in r ]\n",
    "l3=[ i*ele  for i in r for ele in ['x','y','z']]\n",
    "l4=[ [ele+i] for i in list(range(1,4)) for ele in [1,2,3] ]\n",
    "l5=[ [ele+i for i in r] for ele in r ]\n",
    "l6 =[ (ele,i) for i in [1,2,3] for ele in [1,2,3]]\n",
    "\n",
    "print(l1,\"\\n\",l2,\"\\n\",l3,\"\\n\",l4,\"\\n\",l5,\"\\n\",l6)"
   ]
  },
  {
   "cell_type": "code",
   "execution_count": null,
   "metadata": {},
   "outputs": [],
   "source": [
    "#Implement a function longestWord() that takes a list of words and returns the longest one."
   ]
  },
  {
   "cell_type": "code",
   "execution_count": 4,
   "metadata": {},
   "outputs": [
    {
     "name": "stdout",
     "output_type": "stream",
     "text": [
      "Enter the words with space:\n",
      "Hello this is test words and we are finding the longest word and the result is.\n",
      "\n",
      "The longest word: finding\n"
     ]
    }
   ],
   "source": [
    "def longestWord(test_list):\n",
    "##Method 1    \n",
    "    # Convert test list to String\n",
    "    s=[str(i) for i in test_list ]\n",
    "    return(max(s,key=len))\n",
    "\n",
    "##Method 2\n",
    "#     s=[str(i) for i in test_list ]\n",
    "#     l=0\n",
    "#     for k in s:\n",
    "#          if len(k)>l:\n",
    "#              l=len(k)\n",
    "#              lw=k\n",
    "#     return lw\n",
    "\n",
    "test_list=input(\"Enter the words with space:\\n\").split(\" \")\n",
    "# test_list=[123,\"test\",\"New word\",\"hello\",\"a\",\"bcn\",\"kjk\",\"New word 81918\"]\n",
    "\n",
    "print(\"\\nThe longest word:\",longestWord(test_list))"
   ]
  },
  {
   "cell_type": "code",
   "execution_count": null,
   "metadata": {},
   "outputs": [],
   "source": [
    "# #Task 2\n",
    "# 1.1\n",
    "# Write a Python Program(with class concepts) to find the area of the triangle using the below\n",
    "# formula.\n",
    "# area = (s*(s-a)*(s-b)*(s-c)) ** 0.5\n"
   ]
  },
  {
   "cell_type": "code",
   "execution_count": 1,
   "metadata": {},
   "outputs": [
    {
     "name": "stdout",
     "output_type": "stream",
     "text": [
      "---Enter the length of sides---\n",
      "\n",
      "Enter the length of Side A:10\n",
      "\n",
      "Enter the length of Side B:7\n",
      "\n",
      "Enter the length of Side C:12\n",
      "Area of triangle: 34.978\n"
     ]
    }
   ],
   "source": [
    "class Input:\n",
    "    def __init__(self):\n",
    "        print(\"---Enter the length of sides---\\n\")\n",
    "        self.a=float(input(\"Enter the length of Side A:\"))\n",
    "        self.b=float(input(\"\\nEnter the length of Side B:\"))\n",
    "        self.c=float(input(\"\\nEnter the length of Side C:\"))\n",
    "    def perimter(self):\n",
    "        return (self.a+self.b+self.c)/2\n",
    "\n",
    "class Area(Input):\n",
    "    def __init__(self):\n",
    "        super().__init__()\n",
    "\n",
    "    def area_triange(self):\n",
    "        s=self.perimter()\n",
    "        return \"%.3f\"%(s*(s-self.a)*(s-self.b)*(s-self.c)) ** 0.5\n",
    "       \n",
    "a=Area()\n",
    "print(\"Area of triangle:\",a.area_triange())"
   ]
  },
  {
   "cell_type": "code",
   "execution_count": null,
   "metadata": {},
   "outputs": [],
   "source": [
    "# Write a function filter_long_words() that takes a list of words and an integer n and returns the list\n",
    "# of words that are longer than n."
   ]
  },
  {
   "cell_type": "code",
   "execution_count": 17,
   "metadata": {},
   "outputs": [
    {
     "name": "stdout",
     "output_type": "stream",
     "text": [
      "Enter the words with space:\n",
      "Hello this is test words and we are finding the longest word and the result is.\n",
      "Enter the size you need to find longer words:3\n",
      "\n",
      "Words in the list greater than Length 3:\n",
      "['Hello', 'this', 'test', 'words', 'finding', 'longest', 'word', 'result']\n"
     ]
    }
   ],
   "source": [
    "class LongWords:\n",
    "    def __init__(self,l,n):\n",
    "        self.list=l\n",
    "        self.n=n\n",
    "\n",
    "    def filter_long_words(self):\n",
    "        # Convert test list to String\n",
    "        list_str=[str(i) for i in self.list ]\n",
    "        result=[ k for k in list_str if len(k) > self.n]\n",
    "        return result\n",
    "            \n",
    "# test_list=[123,\"test\",\"New word\",\"hello\",\"a\",\"bcn\",\"kjk\",\"New word 81918\"]\n",
    "test_list=input(\"Enter the words with space:\\n\").split(\" \")\n",
    "n=int(input(\"Enter the size you need to find longer words:\"))\n",
    "ob=LongWords(test_list,n)\n",
    "print(\"\\nWords in the list greater than Length {}:\\n{}\".format(n,ob.filter_long_words()))"
   ]
  },
  {
   "cell_type": "code",
   "execution_count": 18,
   "metadata": {},
   "outputs": [
    {
     "name": "stdout",
     "output_type": "stream",
     "text": [
      "[123, 'test', 'New word', 'hello', 'a', 'bcn', 'kjk', 'New word 81918']\n",
      "[3, 4, 8, 5, 1, 3, 3, 14]\n"
     ]
    }
   ],
   "source": [
    "# Write a Python program using function concept that maps list of words into a list of integers\n",
    "# representing the lengths of the corresponding words​ .\n",
    "class mapList:\n",
    "    def __init__(self,l):\n",
    "        self.l=l\n",
    "\n",
    "    def maplist(self):\n",
    "        \n",
    "        list_str=[len(str(i)) for i in self.l ]\n",
    "        return list_str\n",
    "\n",
    "test_list=[123,\"test\",\"New word\",\"hello\",\"a\",\"bcn\",\"kjk\",\"New word 81918\"]\n",
    "ml=mapList(test_list)\n",
    "print(test_list)\n",
    "print(ml.maplist())\n"
   ]
  },
  {
   "cell_type": "code",
   "execution_count": 20,
   "metadata": {},
   "outputs": [
    {
     "name": "stdout",
     "output_type": "stream",
     "text": [
      "Enter Character: U\n",
      "True.Entered character is a Vowel.\n"
     ]
    }
   ],
   "source": [
    "# 2.2\n",
    "# Write a Python function which takes a character (i.e. a string of length 1) and returns True if it is\n",
    "# a vowel, False otherwise.\n",
    "\n",
    "def checkVowel():\n",
    "    s=input(\"Enter Character: \")\n",
    "    if(len(s)>1 or len(s)==0):\n",
    "        return \"Invalid Character...\"\n",
    "    elif s.lower() in ['a','e','i','o','u']:\n",
    "                return \"True.Entered character is a Vowel.\"\n",
    "    else:   \n",
    "        return \"False.Entered character is not a Vowel.\"\n",
    "    \n",
    "print(checkVowel())"
   ]
  },
  {
   "cell_type": "code",
   "execution_count": null,
   "metadata": {},
   "outputs": [],
   "source": []
  },
  {
   "cell_type": "code",
   "execution_count": null,
   "metadata": {},
   "outputs": [],
   "source": []
  }
 ],
 "metadata": {
  "kernelspec": {
   "display_name": "Python 3",
   "language": "python",
   "name": "python3"
  },
  "language_info": {
   "codemirror_mode": {
    "name": "ipython",
    "version": 3
   },
   "file_extension": ".py",
   "mimetype": "text/x-python",
   "name": "python",
   "nbconvert_exporter": "python",
   "pygments_lexer": "ipython3",
   "version": "3.6.5"
  }
 },
 "nbformat": 4,
 "nbformat_minor": 2
}
